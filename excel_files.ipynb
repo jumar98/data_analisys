{
 "cells": [
  {
   "cell_type": "code",
   "execution_count": null,
   "id": "9bcbe967",
   "metadata": {},
   "outputs": [],
   "source": [
    "import pandas as pd\n",
    "import psycopg2"
   ]
  },
  {
   "cell_type": "code",
   "execution_count": null,
   "id": "443a64a4",
   "metadata": {},
   "outputs": [],
   "source": [
    "conn_postgres = psycopg2.connect(\n",
    "    user=\"postgres\",\n",
    "    password=\"postgres\",\n",
    "    host=\"localhost\",\n",
    "    port=\"5432\",\n",
    "    database=\"zinarobot\"\n",
    ")\n",
    "conn_postgres"
   ]
  },
  {
   "cell_type": "code",
   "execution_count": null,
   "id": "d955e361",
   "metadata": {},
   "outputs": [],
   "source": [
    "query_sql = \"SELECT * FROM auth_user limit 10\"\n",
    "df = pd.read_sql(query_sql, conn_postgres)\n",
    "df.head()"
   ]
  },
  {
   "cell_type": "code",
   "execution_count": null,
   "id": "97abc3ad",
   "metadata": {},
   "outputs": [],
   "source": [
    "db_path = \"/home/jumar/Desktop/data_analisys/db/{}\"\n",
    "db_path"
   ]
  },
  {
   "cell_type": "code",
   "execution_count": null,
   "id": "7a06cdfb",
   "metadata": {},
   "outputs": [],
   "source": [
    "import numpy as np\n",
    "dict_data = {\n",
    "    'edad' :     [ 10, 9, 13, 14, 12, 11, 12],\n",
    "    'cm' : [ 115, 110, 130, 155, 125, 120, 125],\n",
    "    'pais' :    [ 'co', 'mx', 'co', 'mx', 'mx', 'ch', 'ch'],\n",
    "    'genero' :  [ 'M', 'F', 'F', 'M', 'M', 'M', 'F'],\n",
    "    'Q1' : [ 5, 10, 8, np.nan, 7, 8, 3],\n",
    "    'Q2' : [ 7, 9, 9, 8, 8, 8, 9.]\n",
    "}\n",
    "dict_data"
   ]
  },
  {
   "cell_type": "code",
   "execution_count": null,
   "id": "aa90bff8",
   "metadata": {},
   "outputs": [],
   "source": [
    "df = pd.DataFrame(dict_data)\n",
    "df"
   ]
  },
  {
   "cell_type": "code",
   "execution_count": null,
   "id": "be957dcd",
   "metadata": {},
   "outputs": [],
   "source": [
    "df.to_excel(db_path.format('test.xlsx'), index=False)"
   ]
  },
  {
   "cell_type": "code",
   "execution_count": null,
   "id": "0f53e3f7",
   "metadata": {},
   "outputs": [],
   "source": [
    "pd.read_excel(db_path.format('test.xlsx'))\n"
   ]
  },
  {
   "cell_type": "code",
   "execution_count": null,
   "id": "e070d817",
   "metadata": {},
   "outputs": [],
   "source": [
    "df.to_excel(db_path.format('test.xlsx'), index=False, sheet_name='Sheet Test')"
   ]
  },
  {
   "cell_type": "code",
   "execution_count": null,
   "id": "b1c73116",
   "metadata": {},
   "outputs": [],
   "source": [
    "df.to_json(db_path.format(\"test.json\"))\n"
   ]
  },
  {
   "cell_type": "code",
   "execution_count": null,
   "id": "05bfb437",
   "metadata": {},
   "outputs": [],
   "source": [
    "pd.read_json(db_path.format(\"test.json\"))"
   ]
  },
  {
   "cell_type": "code",
   "execution_count": null,
   "id": "a9cb7dda",
   "metadata": {},
   "outputs": [],
   "source": []
  }
 ],
 "metadata": {
  "kernelspec": {
   "display_name": "Python 3 (ipykernel)",
   "language": "python",
   "name": "python3"
  },
  "language_info": {
   "codemirror_mode": {
    "name": "ipython",
    "version": 3
   },
   "file_extension": ".py",
   "mimetype": "text/x-python",
   "name": "python",
   "nbconvert_exporter": "python",
   "pygments_lexer": "ipython3",
   "version": "3.8.10"
  }
 },
 "nbformat": 4,
 "nbformat_minor": 5
}
