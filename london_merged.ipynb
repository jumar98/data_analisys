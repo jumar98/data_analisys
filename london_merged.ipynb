{
 "cells": [
  {
   "cell_type": "code",
   "execution_count": null,
   "id": "f4a86920",
   "metadata": {},
   "outputs": [],
   "source": [
    "import pandas as pd\n",
    "import numpy as np"
   ]
  },
  {
   "cell_type": "code",
   "execution_count": null,
   "id": "dffe0711",
   "metadata": {},
   "outputs": [],
   "source": [
    "df_london_merged = pd.read_csv(\"/home/jumar/Desktop/data_analisys/datasets/london_merged.csv\")\n",
    "df_london_merged"
   ]
  },
  {
   "cell_type": "code",
   "execution_count": null,
   "id": "c675f3b6",
   "metadata": {},
   "outputs": [],
   "source": [
    "df_london_merged.dtypes"
   ]
  },
  {
   "cell_type": "code",
   "execution_count": null,
   "id": "eee27026",
   "metadata": {},
   "outputs": [],
   "source": [
    "df_london_merged['timestamp'] = pd.to_datetime(df_london_merged['timestamp'])"
   ]
  },
  {
   "cell_type": "code",
   "execution_count": null,
   "id": "14e22058",
   "metadata": {},
   "outputs": [],
   "source": [
    "df_london_merged['hour'] = df_london_merged['timestamp'].dt.hour\n",
    "df_london_merged['hour']"
   ]
  },
  {
   "cell_type": "code",
   "execution_count": null,
   "id": "e3ee109e",
   "metadata": {},
   "outputs": [],
   "source": [
    "df = df_london_merged.iloc[:,1:]\n",
    "df"
   ]
  },
  {
   "cell_type": "code",
   "execution_count": null,
   "id": "ab344d98",
   "metadata": {},
   "outputs": [],
   "source": [
    "np.sin(df['wind_speed']**2) + .18"
   ]
  },
  {
   "cell_type": "code",
   "execution_count": null,
   "id": "7167a9e1",
   "metadata": {},
   "outputs": [],
   "source": [
    "df['t1'] - df['t2']"
   ]
  },
  {
   "cell_type": "code",
   "execution_count": null,
   "id": "2687b900",
   "metadata": {},
   "outputs": [],
   "source": [
    "df['t1'].iloc[::4] - df['t2']"
   ]
  },
  {
   "cell_type": "code",
   "execution_count": null,
   "id": "2f939f0f",
   "metadata": {},
   "outputs": [],
   "source": [
    "df['t1'].iloc[::2].sub(df['t2'], fill_value=1000)"
   ]
  },
  {
   "cell_type": "code",
   "execution_count": null,
   "id": "9633a362",
   "metadata": {},
   "outputs": [],
   "source": [
    "df['t1'].dot(df['t1'])"
   ]
  },
  {
   "cell_type": "code",
   "execution_count": null,
   "id": "90c717f0",
   "metadata": {},
   "outputs": [],
   "source": [
    "def test_function(x):\n",
    "    y = x**2 + 1\n",
    "    return y"
   ]
  },
  {
   "cell_type": "code",
   "execution_count": null,
   "id": "411fd87c",
   "metadata": {},
   "outputs": [],
   "source": [
    "test_function(10)"
   ]
  },
  {
   "cell_type": "code",
   "execution_count": null,
   "id": "7a32e982",
   "metadata": {},
   "outputs": [],
   "source": [
    "np.arange(-5, 6)"
   ]
  },
  {
   "cell_type": "code",
   "execution_count": null,
   "id": "1268d991",
   "metadata": {},
   "outputs": [],
   "source": [
    "np.arange(-5, 6).shape\n"
   ]
  },
  {
   "cell_type": "code",
   "execution_count": null,
   "id": "253e4475",
   "metadata": {},
   "outputs": [],
   "source": [
    "test_function(np.arange(-5, 6))\n"
   ]
  },
  {
   "cell_type": "code",
   "execution_count": null,
   "id": "a30b7ddd",
   "metadata": {},
   "outputs": [],
   "source": [
    "df['hour'].apply(test_function)"
   ]
  },
  {
   "cell_type": "code",
   "execution_count": null,
   "id": "8c9228bc",
   "metadata": {},
   "outputs": [],
   "source": [
    "def test_function_2(x, a=0, b=0):\n",
    "    y = x**2 + a*x + b\n",
    "    return y"
   ]
  },
  {
   "cell_type": "code",
   "execution_count": null,
   "id": "aacc0a7e",
   "metadata": {},
   "outputs": [],
   "source": [
    "test_function_2(10, a=4, b=10)"
   ]
  },
  {
   "cell_type": "code",
   "execution_count": null,
   "id": "4f00b06d",
   "metadata": {},
   "outputs": [],
   "source": [
    "df['hour'].apply(test_function_2, a=4, b=7)"
   ]
  },
  {
   "cell_type": "code",
   "execution_count": null,
   "id": "cfb49197",
   "metadata": {},
   "outputs": [],
   "source": [
    "df.apply(lambda x: x.std(), axis=1)"
   ]
  },
  {
   "cell_type": "code",
   "execution_count": 46,
   "id": "6614b4d2",
   "metadata": {},
   "outputs": [
    {
     "data": {
      "text/html": [
       "<div>\n",
       "<style scoped>\n",
       "    .dataframe tbody tr th:only-of-type {\n",
       "        vertical-align: middle;\n",
       "    }\n",
       "\n",
       "    .dataframe tbody tr th {\n",
       "        vertical-align: top;\n",
       "    }\n",
       "\n",
       "    .dataframe thead th {\n",
       "        text-align: right;\n",
       "    }\n",
       "</style>\n",
       "<table border=\"1\" class=\"dataframe\">\n",
       "  <thead>\n",
       "    <tr style=\"text-align: right;\">\n",
       "      <th></th>\n",
       "      <th>cnt</th>\n",
       "      <th>t1</th>\n",
       "      <th>t2</th>\n",
       "      <th>hum</th>\n",
       "      <th>wind_speed</th>\n",
       "      <th>weather_code</th>\n",
       "      <th>is_holiday</th>\n",
       "      <th>is_weekend</th>\n",
       "      <th>season</th>\n",
       "      <th>hour</th>\n",
       "    </tr>\n",
       "  </thead>\n",
       "  <tbody>\n",
       "    <tr>\n",
       "      <th>0</th>\n",
       "      <td>182000</td>\n",
       "      <td>3000.0</td>\n",
       "      <td>2000.0</td>\n",
       "      <td>93000.0</td>\n",
       "      <td>6000.0</td>\n",
       "      <td>3000.0</td>\n",
       "      <td>0.0</td>\n",
       "      <td>1000.0</td>\n",
       "      <td>3000.0</td>\n",
       "      <td>0</td>\n",
       "    </tr>\n",
       "    <tr>\n",
       "      <th>1</th>\n",
       "      <td>138000</td>\n",
       "      <td>3000.0</td>\n",
       "      <td>2500.0</td>\n",
       "      <td>93000.0</td>\n",
       "      <td>5000.0</td>\n",
       "      <td>1000.0</td>\n",
       "      <td>0.0</td>\n",
       "      <td>1000.0</td>\n",
       "      <td>3000.0</td>\n",
       "      <td>1000</td>\n",
       "    </tr>\n",
       "    <tr>\n",
       "      <th>2</th>\n",
       "      <td>134000</td>\n",
       "      <td>2500.0</td>\n",
       "      <td>2500.0</td>\n",
       "      <td>96500.0</td>\n",
       "      <td>0.0</td>\n",
       "      <td>1000.0</td>\n",
       "      <td>0.0</td>\n",
       "      <td>1000.0</td>\n",
       "      <td>3000.0</td>\n",
       "      <td>2000</td>\n",
       "    </tr>\n",
       "    <tr>\n",
       "      <th>3</th>\n",
       "      <td>72000</td>\n",
       "      <td>2000.0</td>\n",
       "      <td>2000.0</td>\n",
       "      <td>100000.0</td>\n",
       "      <td>0.0</td>\n",
       "      <td>1000.0</td>\n",
       "      <td>0.0</td>\n",
       "      <td>1000.0</td>\n",
       "      <td>3000.0</td>\n",
       "      <td>3000</td>\n",
       "    </tr>\n",
       "    <tr>\n",
       "      <th>4</th>\n",
       "      <td>47000</td>\n",
       "      <td>2000.0</td>\n",
       "      <td>0.0</td>\n",
       "      <td>93000.0</td>\n",
       "      <td>6500.0</td>\n",
       "      <td>1000.0</td>\n",
       "      <td>0.0</td>\n",
       "      <td>1000.0</td>\n",
       "      <td>3000.0</td>\n",
       "      <td>4000</td>\n",
       "    </tr>\n",
       "    <tr>\n",
       "      <th>...</th>\n",
       "      <td>...</td>\n",
       "      <td>...</td>\n",
       "      <td>...</td>\n",
       "      <td>...</td>\n",
       "      <td>...</td>\n",
       "      <td>...</td>\n",
       "      <td>...</td>\n",
       "      <td>...</td>\n",
       "      <td>...</td>\n",
       "      <td>...</td>\n",
       "    </tr>\n",
       "    <tr>\n",
       "      <th>17409</th>\n",
       "      <td>1042000</td>\n",
       "      <td>5000.0</td>\n",
       "      <td>1000.0</td>\n",
       "      <td>81000.0</td>\n",
       "      <td>19000.0</td>\n",
       "      <td>3000.0</td>\n",
       "      <td>0.0</td>\n",
       "      <td>0.0</td>\n",
       "      <td>3000.0</td>\n",
       "      <td>19000</td>\n",
       "    </tr>\n",
       "    <tr>\n",
       "      <th>17410</th>\n",
       "      <td>541000</td>\n",
       "      <td>5000.0</td>\n",
       "      <td>1000.0</td>\n",
       "      <td>81000.0</td>\n",
       "      <td>21000.0</td>\n",
       "      <td>4000.0</td>\n",
       "      <td>0.0</td>\n",
       "      <td>0.0</td>\n",
       "      <td>3000.0</td>\n",
       "      <td>20000</td>\n",
       "    </tr>\n",
       "    <tr>\n",
       "      <th>17411</th>\n",
       "      <td>337000</td>\n",
       "      <td>5500.0</td>\n",
       "      <td>1500.0</td>\n",
       "      <td>78500.0</td>\n",
       "      <td>24000.0</td>\n",
       "      <td>4000.0</td>\n",
       "      <td>0.0</td>\n",
       "      <td>0.0</td>\n",
       "      <td>3000.0</td>\n",
       "      <td>21000</td>\n",
       "    </tr>\n",
       "    <tr>\n",
       "      <th>17412</th>\n",
       "      <td>224000</td>\n",
       "      <td>5500.0</td>\n",
       "      <td>1500.0</td>\n",
       "      <td>76000.0</td>\n",
       "      <td>23000.0</td>\n",
       "      <td>4000.0</td>\n",
       "      <td>0.0</td>\n",
       "      <td>0.0</td>\n",
       "      <td>3000.0</td>\n",
       "      <td>22000</td>\n",
       "    </tr>\n",
       "    <tr>\n",
       "      <th>17413</th>\n",
       "      <td>139000</td>\n",
       "      <td>5000.0</td>\n",
       "      <td>1000.0</td>\n",
       "      <td>76000.0</td>\n",
       "      <td>22000.0</td>\n",
       "      <td>2000.0</td>\n",
       "      <td>0.0</td>\n",
       "      <td>0.0</td>\n",
       "      <td>3000.0</td>\n",
       "      <td>23000</td>\n",
       "    </tr>\n",
       "  </tbody>\n",
       "</table>\n",
       "<p>17414 rows × 10 columns</p>\n",
       "</div>"
      ],
      "text/plain": [
       "           cnt      t1      t2       hum  wind_speed  weather_code  \\\n",
       "0       182000  3000.0  2000.0   93000.0      6000.0        3000.0   \n",
       "1       138000  3000.0  2500.0   93000.0      5000.0        1000.0   \n",
       "2       134000  2500.0  2500.0   96500.0         0.0        1000.0   \n",
       "3        72000  2000.0  2000.0  100000.0         0.0        1000.0   \n",
       "4        47000  2000.0     0.0   93000.0      6500.0        1000.0   \n",
       "...        ...     ...     ...       ...         ...           ...   \n",
       "17409  1042000  5000.0  1000.0   81000.0     19000.0        3000.0   \n",
       "17410   541000  5000.0  1000.0   81000.0     21000.0        4000.0   \n",
       "17411   337000  5500.0  1500.0   78500.0     24000.0        4000.0   \n",
       "17412   224000  5500.0  1500.0   76000.0     23000.0        4000.0   \n",
       "17413   139000  5000.0  1000.0   76000.0     22000.0        2000.0   \n",
       "\n",
       "       is_holiday  is_weekend  season   hour  \n",
       "0             0.0      1000.0  3000.0      0  \n",
       "1             0.0      1000.0  3000.0   1000  \n",
       "2             0.0      1000.0  3000.0   2000  \n",
       "3             0.0      1000.0  3000.0   3000  \n",
       "4             0.0      1000.0  3000.0   4000  \n",
       "...           ...         ...     ...    ...  \n",
       "17409         0.0         0.0  3000.0  19000  \n",
       "17410         0.0         0.0  3000.0  20000  \n",
       "17411         0.0         0.0  3000.0  21000  \n",
       "17412         0.0         0.0  3000.0  22000  \n",
       "17413         0.0         0.0  3000.0  23000  \n",
       "\n",
       "[17414 rows x 10 columns]"
      ]
     },
     "execution_count": 46,
     "metadata": {},
     "output_type": "execute_result"
    }
   ],
   "source": [
    "df.applymap(lambda x: x * 1000)"
   ]
  },
  {
   "cell_type": "code",
   "execution_count": null,
   "id": "275d9512",
   "metadata": {},
   "outputs": [],
   "source": []
  }
 ],
 "metadata": {
  "kernelspec": {
   "display_name": "Python 3 (ipykernel)",
   "language": "python",
   "name": "python3"
  },
  "language_info": {
   "codemirror_mode": {
    "name": "ipython",
    "version": 3
   },
   "file_extension": ".py",
   "mimetype": "text/x-python",
   "name": "python",
   "nbconvert_exporter": "python",
   "pygments_lexer": "ipython3",
   "version": "3.8.10"
  }
 },
 "nbformat": 4,
 "nbformat_minor": 5
}
