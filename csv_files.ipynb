{
 "cells": [
  {
   "cell_type": "code",
   "execution_count": null,
   "id": "72694fbd",
   "metadata": {},
   "outputs": [],
   "source": [
    "%cd \"~/Downloads/\"\n",
    "!ls"
   ]
  },
  {
   "cell_type": "code",
   "execution_count": null,
   "id": "4f1092f4",
   "metadata": {},
   "outputs": [],
   "source": [
    "%cd .\n"
   ]
  },
  {
   "cell_type": "code",
   "execution_count": null,
   "id": "4d6df61c",
   "metadata": {},
   "outputs": [],
   "source": [
    "!mkdir ~/Desktop/data_analisys/db\n"
   ]
  },
  {
   "cell_type": "code",
   "execution_count": null,
   "id": "aed749e3",
   "metadata": {},
   "outputs": [],
   "source": [
    "!ls /home/jumar/Desktop/data_analisys/"
   ]
  },
  {
   "cell_type": "code",
   "execution_count": null,
   "id": "67ccbacd",
   "metadata": {},
   "outputs": [],
   "source": [
    "db_path = \"/home/jumar/Desktop/data_analisys/db/{}\".format(\"test.xlsx\")\n",
    "db_path"
   ]
  },
  {
   "cell_type": "code",
   "execution_count": null,
   "id": "443292e4",
   "metadata": {},
   "outputs": [],
   "source": [
    "import pandas as pd"
   ]
  },
  {
   "cell_type": "code",
   "execution_count": null,
   "id": "c890bd04",
   "metadata": {},
   "outputs": [],
   "source": [
    "import numpy as np"
   ]
  },
  {
   "cell_type": "code",
   "execution_count": null,
   "id": "a8c110e5",
   "metadata": {},
   "outputs": [],
   "source": [
    "dict_data = {\n",
    "    'edad' :     [ 10, 9, 13, 14, 12, 11, 12],\n",
    "    'cm' : [ 115, 110, 130, 155, 125, 120, 125],\n",
    "    'pais' :    [ 'co', 'mx', 'co', 'mx', 'mx', 'ch', 'ch'],\n",
    "    'genero' :  [ 'M', 'F', 'F', 'M', 'M', 'M', 'F'],\n",
    "    'Q1' : [ 5, 10, 8, np.nan, 7, 8, 3],\n",
    "    'Q2' : [ 7, 9, 9, 8, 8, 8, 9.]\n",
    "}"
   ]
  },
  {
   "cell_type": "code",
   "execution_count": null,
   "id": "ca80a0f3",
   "metadata": {},
   "outputs": [],
   "source": [
    "dict_data"
   ]
  },
  {
   "cell_type": "code",
   "execution_count": null,
   "id": "9b63d4df",
   "metadata": {},
   "outputs": [],
   "source": [
    "db_path = \"/home/jumar/Desktop/data_analisys/db/{}\"\n",
    "db_path"
   ]
  },
  {
   "cell_type": "code",
   "execution_count": null,
   "id": "644fd3de",
   "metadata": {},
   "outputs": [],
   "source": [
    "df = pd.DataFrame(dict_data)\n",
    "df"
   ]
  },
  {
   "cell_type": "code",
   "execution_count": null,
   "id": "51b65850",
   "metadata": {},
   "outputs": [],
   "source": [
    "df.to_csv(db_path.format(\"test.csv\"))"
   ]
  },
  {
   "cell_type": "code",
   "execution_count": null,
   "id": "4a83f919",
   "metadata": {},
   "outputs": [],
   "source": [
    "!ls /home/jumar/Desktop/data_analisys/db/\n"
   ]
  },
  {
   "cell_type": "code",
   "execution_count": null,
   "id": "928b8b89",
   "metadata": {},
   "outputs": [],
   "source": [
    "df.to_csv(db_path.format(\"test.csv\"), index=False)"
   ]
  },
  {
   "cell_type": "code",
   "execution_count": null,
   "id": "997b4dd8",
   "metadata": {},
   "outputs": [],
   "source": [
    "df_read = pd.read_csv(db_path.format('test.csv'))\n",
    "df_read"
   ]
  },
  {
   "cell_type": "code",
   "execution_count": null,
   "id": "6c0124bb",
   "metadata": {},
   "outputs": [],
   "source": [
    "df.to_csv(db_path.format(\"test.csv\"), index=False, sep=\"|\")\n"
   ]
  },
  {
   "cell_type": "code",
   "execution_count": null,
   "id": "5c40cbe7",
   "metadata": {},
   "outputs": [],
   "source": [
    "df_read = pd.read_csv(db_path.format('test.csv'), sep=\"|\")\n",
    "df_read"
   ]
  },
  {
   "cell_type": "code",
   "execution_count": null,
   "id": "c63a3619",
   "metadata": {},
   "outputs": [],
   "source": []
  }
 ],
 "metadata": {
  "kernelspec": {
   "display_name": "Python 3 (ipykernel)",
   "language": "python",
   "name": "python3"
  },
  "language_info": {
   "codemirror_mode": {
    "name": "ipython",
    "version": 3
   },
   "file_extension": ".py",
   "mimetype": "text/x-python",
   "name": "python",
   "nbconvert_exporter": "python",
   "pygments_lexer": "ipython3",
   "version": "3.8.10"
  }
 },
 "nbformat": 4,
 "nbformat_minor": 5
}
